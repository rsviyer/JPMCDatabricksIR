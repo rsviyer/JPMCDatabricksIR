{
 "cells": [
  {
   "cell_type": "code",
   "execution_count": 0,
   "metadata": {
    "application/vnd.databricks.v1+cell": {
     "cellMetadata": {
      "byteLimit": 2048000,
      "implicitDf": true,
      "rowLimit": 10000
     },
     "inputWidgets": {},
     "nuid": "73cb9e64-a876-4f93-8a46-9384556c78c2",
     "showTitle": false,
     "tableResultSettingsMap": {},
     "title": ""
    }
   },
   "outputs": [],
   "source": [
    "%run \"/Workspace/Users/ramsviyer@gmail.com/JPMCDatabricksIR/Day2/e2e/include\""
   ]
  },
  {
   "cell_type": "code",
   "execution_count": 0,
   "metadata": {
    "application/vnd.databricks.v1+cell": {
     "cellMetadata": {
      "byteLimit": 2048000,
      "rowLimit": 10000
     },
     "inputWidgets": {},
     "nuid": "44e1b170-aae0-41d7-a5a4-1c44f00773a1",
     "showTitle": false,
     "tableResultSettingsMap": {},
     "title": ""
    }
   },
   "outputs": [],
   "source": [
    "dbutils.widgets.text(\"tableName\",\"table\");\n",
    "dbutils.widgets.text(\"fileName\",\"financial_dataset.csv\");\n",
    "dbutils.widgets.text(\"catalogName\",\"catalog\");\n",
    "dbutils.widgets.text(\"schemaName\",\"schema\");"
   ]
  },
  {
   "cell_type": "code",
   "execution_count": 0,
   "metadata": {
    "application/vnd.databricks.v1+cell": {
     "cellMetadata": {
      "byteLimit": 2048000,
      "rowLimit": 10000
     },
     "inputWidgets": {},
     "nuid": "eab41da9-8b66-4555-99ed-a918127e138e",
     "showTitle": false,
     "tableResultSettingsMap": {},
     "title": ""
    }
   },
   "outputs": [],
   "source": [
    "table_name=dbutils.widgets.get(\"tableName\")\n",
    "file_name=dbutils.widgets.get(\"fileName\")\n",
    "schema_name=dbutils.widgets.get(\"schemaName\")\n",
    "catalog_name=dbutils.widgets.get(\"catalogName\")"
   ]
  },
  {
   "cell_type": "code",
   "execution_count": 0,
   "metadata": {
    "application/vnd.databricks.v1+cell": {
     "cellMetadata": {
      "byteLimit": 2048000,
      "rowLimit": 10000
     },
     "inputWidgets": {},
     "nuid": "666fe050-111f-4b91-b277-8d432675d4d7",
     "showTitle": false,
     "tableResultSettingsMap": {},
     "title": ""
    }
   },
   "outputs": [],
   "source": [
    "df = spark.read.csv(f\"{file_path}/{file_name}\", header=True, inferSchema=True)\n",
    "df.write.mode(\"overwrite\").option(\"overwriteSchema\",\"true\").saveAsTable(f\"{catalog_name}.{schema_name}.{table_name}\")"
   ]
  }
 ],
 "metadata": {
  "application/vnd.databricks.v1+notebook": {
   "computePreferences": null,
   "dashboards": [],
   "environmentMetadata": {
    "base_environment": "",
    "environment_version": "3"
   },
   "inputWidgetPreferences": null,
   "language": "python",
   "notebookMetadata": {
    "mostRecentlyExecutedCommandWithImplicitDF": {
     "commandId": 5661529705568754,
     "dataframes": [
      "_sqldf"
     ]
    },
    "pythonIndentUnit": 4
   },
   "notebookName": "Ingestion",
   "widgets": {
    "catalogName": {
     "currentValue": "dev",
     "nuid": "d482e17d-bbf6-42fa-a97c-00f712118eb3",
     "typedWidgetInfo": {
      "autoCreated": false,
      "defaultValue": "catalog",
      "label": null,
      "name": "catalogName",
      "options": {
       "widgetDisplayType": "Text",
       "validationRegex": null
      },
      "parameterDataType": "String"
     },
     "widgetInfo": {
      "widgetType": "text",
      "defaultValue": "catalog",
      "label": null,
      "name": "catalogName",
      "options": {
       "widgetType": "text",
       "autoCreated": null,
       "validationRegex": null
      }
     }
    },
    "fileName": {
     "currentValue": "products",
     "nuid": "9955f64a-89fe-4e47-a553-62302720df6b",
     "typedWidgetInfo": {
      "autoCreated": false,
      "defaultValue": "financial_dataset.csv",
      "label": null,
      "name": "fileName",
      "options": {
       "widgetDisplayType": "Text",
       "validationRegex": null
      },
      "parameterDataType": "String"
     },
     "widgetInfo": {
      "widgetType": "text",
      "defaultValue": "financial_dataset.csv",
      "label": null,
      "name": "fileName",
      "options": {
       "widgetType": "text",
       "autoCreated": null,
       "validationRegex": null
      }
     }
    },
    "schemaName": {
     "currentValue": "riyer_bronze",
     "nuid": "cbfdf95c-fa9d-4383-9265-247b58cfef9a",
     "typedWidgetInfo": {
      "autoCreated": false,
      "defaultValue": "schema",
      "label": null,
      "name": "schemaName",
      "options": {
       "widgetDisplayType": "Text",
       "validationRegex": null
      },
      "parameterDataType": "String"
     },
     "widgetInfo": {
      "widgetType": "text",
      "defaultValue": "schema",
      "label": null,
      "name": "schemaName",
      "options": {
       "widgetType": "text",
       "autoCreated": null,
       "validationRegex": null
      }
     }
    },
    "tableName": {
     "currentValue": "products",
     "nuid": "b72b756d-8b7b-4ccc-b43f-4a4345c5bb9e",
     "typedWidgetInfo": {
      "autoCreated": false,
      "defaultValue": "table",
      "label": null,
      "name": "tableName",
      "options": {
       "widgetDisplayType": "Text",
       "validationRegex": null
      },
      "parameterDataType": "String"
     },
     "widgetInfo": {
      "widgetType": "text",
      "defaultValue": "table",
      "label": null,
      "name": "tableName",
      "options": {
       "widgetType": "text",
       "autoCreated": null,
       "validationRegex": null
      }
     }
    }
   }
  },
  "language_info": {
   "name": "python"
  }
 },
 "nbformat": 4,
 "nbformat_minor": 0
}
