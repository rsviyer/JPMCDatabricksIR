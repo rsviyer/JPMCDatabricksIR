{
 "cells": [
  {
   "cell_type": "code",
   "execution_count": 0,
   "metadata": {
    "application/vnd.databricks.v1+cell": {
     "cellMetadata": {
      "byteLimit": 2048000,
      "implicitDf": true,
      "rowLimit": 10000
     },
     "inputWidgets": {},
     "nuid": "15c6edd3-438f-4672-9ec2-5d14af76857b",
     "showTitle": false,
     "tableResultSettingsMap": {},
     "title": ""
    }
   },
   "outputs": [],
   "source": [
    "%sql\n",
    "create or replace view dev.riyer_gold.top_3_customers as\n",
    "(select customer_id, round(sum(total_amount)) as total from dev.riyer_silver.sales_cleaned group by customer_id order by total desc limit 3)"
   ]
  },
  {
   "cell_type": "code",
   "execution_count": 0,
   "metadata": {
    "application/vnd.databricks.v1+cell": {
     "cellMetadata": {
      "byteLimit": 2048000,
      "implicitDf": true,
      "rowLimit": 10000
     },
     "inputWidgets": {},
     "nuid": "b24ee674-376f-48bf-b11a-bceb08423ea1",
     "showTitle": false,
     "tableResultSettingsMap": {},
     "title": ""
    }
   },
   "outputs": [],
   "source": [
    "%sql\n",
    "create or replace view dev.riyer_gold.customer_product_category as\n",
    "(select c.customer_name,p.product_category,round(sum(s.total_amount)) amount from dev.riyer_silver.sales_cleaned s\n",
    "inner join dev.riyer_silver.products p\n",
    "on s.product_id = p.product_id\n",
    "inner join dev.riyer_silver.customers c\n",
    "on c.customer_id = s.customer_id\n",
    "group by c.customer_name,p.product_category)"
   ]
  }
 ],
 "metadata": {
  "application/vnd.databricks.v1+notebook": {
   "computePreferences": null,
   "dashboards": [],
   "environmentMetadata": {
    "base_environment": "",
    "environment_version": "3"
   },
   "inputWidgetPreferences": null,
   "language": "python",
   "notebookMetadata": {
    "mostRecentlyExecutedCommandWithImplicitDF": {
     "commandId": 5661529705570198,
     "dataframes": [
      "_sqldf"
     ]
    },
    "pythonIndentUnit": 4
   },
   "notebookName": "Gold",
   "widgets": {}
  },
  "language_info": {
   "name": "python"
  }
 },
 "nbformat": 4,
 "nbformat_minor": 0
}
