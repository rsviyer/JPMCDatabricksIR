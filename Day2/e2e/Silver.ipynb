{
 "cells": [
  {
   "cell_type": "code",
   "execution_count": 0,
   "metadata": {
    "application/vnd.databricks.v1+cell": {
     "cellMetadata": {
      "byteLimit": 2048000,
      "rowLimit": 10000
     },
     "inputWidgets": {},
     "nuid": "cec13f23-7d6e-44c2-b32e-6ab4f009ef94",
     "showTitle": false,
     "tableResultSettingsMap": {},
     "title": ""
    }
   },
   "outputs": [],
   "source": [
    "df=spark.table(\"dev.riyer_bronze.sales\")\n",
    "\n",
    "df1=df.dropDuplicates().dropna().drop(\"ingestion_date\")\n",
    "\n",
    "df1.write.mode(\"overwrite\").saveAsTable(\"dev.riyer_silver.sales_cleaned\")"
   ]
  },
  {
   "cell_type": "code",
   "execution_count": 0,
   "metadata": {
    "application/vnd.databricks.v1+cell": {
     "cellMetadata": {
      "byteLimit": 2048000,
      "implicitDf": true,
      "rowLimit": 10000
     },
     "inputWidgets": {},
     "nuid": "14d77745-b51a-4c52-b43e-b2d6b760e8a4",
     "showTitle": false,
     "tableResultSettingsMap": {},
     "title": ""
    }
   },
   "outputs": [],
   "source": [
    "%sql\n",
    "with deduplicated_source as \n",
    "(\n",
    "  select s.*,\n",
    "  row_number() over(partition by customer_id order by sequenceNum desc) as row_number\n",
    "  from dev.riyer_bronze.customers s\n",
    "  )\n",
    "merge into dev.riyer_silver.customers t\n",
    "using (select * from deduplicated_source where row_number =1)s \n",
    "on t.customer_id = s.customer_id\n",
    "when matched and s.operation=\"DELETE\" \n",
    "then delete\n",
    "when matched and s.operation=\"UPDATE\" then update\n",
    "set \n",
    "t.customer_name = s.customer_name,\n",
    "t.customer_email = s.customer_email,\n",
    "t.customer_city = s.customer_city,\n",
    "t.customer_state = s.customer_state\n",
    "when not matched then insert \n",
    "(t.customer_id, t.customer_name, t.customer_email, t.customer_city, t.customer_state) values (s.customer_id, s.customer_name, s.customer_email, s.customer_city, s.customer_state)"
   ]
  },
  {
   "cell_type": "code",
   "execution_count": 0,
   "metadata": {
    "application/vnd.databricks.v1+cell": {
     "cellMetadata": {
      "byteLimit": 2048000,
      "implicitDf": true,
      "rowLimit": 10000
     },
     "inputWidgets": {},
     "nuid": "4ef4c084-3322-4724-acd5-1c157bea50f6",
     "showTitle": false,
     "tableResultSettingsMap": {},
     "title": ""
    }
   },
   "outputs": [],
   "source": [
    "%sql\n",
    "with deduplicated_source as \n",
    "(\n",
    "  select s.*,\n",
    "  row_number() over(partition by product_id order by seqNum desc) as row_number\n",
    "  from dev.riyer_bronze.products s\n",
    "  )\n",
    "merge into dev.riyer_silver.products t\n",
    "using (select * from deduplicated_source where row_number =1)s \n",
    "on t.product_id = s.product_id\n",
    "when matched and s.operation=\"DELETE\" \n",
    "then delete\n",
    "when matched and s.operation=\"UPDATE\" then update\n",
    "set \n",
    "t.product_name = s.product_name,\n",
    "t.product_price = s.product_price,\n",
    "t.product_category = s.product_category\n",
    "when not matched then insert \n",
    "(t.product_id, t.product_name, t.product_price, t.product_category) values (s.product_id, s.product_name, s.product_price, s.product_category)"
   ]
  }
 ],
 "metadata": {
  "application/vnd.databricks.v1+notebook": {
   "computePreferences": null,
   "dashboards": [],
   "environmentMetadata": {
    "base_environment": "",
    "environment_version": "3"
   },
   "inputWidgetPreferences": null,
   "language": "python",
   "notebookMetadata": {
    "mostRecentlyExecutedCommandWithImplicitDF": {
     "commandId": 5661529705569301,
     "dataframes": [
      "_sqldf"
     ]
    },
    "pythonIndentUnit": 4
   },
   "notebookName": "Silver",
   "widgets": {}
  },
  "language_info": {
   "name": "python"
  }
 },
 "nbformat": 4,
 "nbformat_minor": 0
}
