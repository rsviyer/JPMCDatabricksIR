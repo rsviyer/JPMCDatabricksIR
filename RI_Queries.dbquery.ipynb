{
 "cells": [
  {
   "cell_type": "code",
   "execution_count": 0,
   "metadata": {
    "application/vnd.databricks.v1+cell": {
     "cellMetadata": {
      "byteLimit": 10485760,
      "rowLimit": 1000
     },
     "inputWidgets": {},
     "nuid": "408a98e5-c7cd-4d9e-8f50-cc813ba2910f",
     "showTitle": false,
     "tableResultSettingsMap": {},
     "title": ""
    }
   },
   "outputs": [],
   "source": [
    "select customer_name,product_category,sum(total_amount) from sales_cleaned s\n",
    "inner join products p \n",
    "on s.product_id = p.product_id\n",
    "inner join customers c on \n",
    "c.customer_id = s.customer_id\n",
    "group by c.customer_name,p.product_category"
   ]
  }
 ],
 "metadata": {
  "application/vnd.databricks.v1+notebook": {
   "computePreferences": null,
   "dashboards": [],
   "environmentMetadata": null,
   "inputWidgetPreferences": null,
   "language": "sql",
   "notebookMetadata": {
    "sqlQueryOptions": {
     "applyAutoLimit": true,
     "catalog": "dev",
     "schema": "riyer_silver"
    }
   },
   "notebookName": "RI_Queries.dbquery.ipynb",
   "widgets": {}
  },
  "language_info": {
   "name": "sql"
  }
 },
 "nbformat": 4,
 "nbformat_minor": 0
}
